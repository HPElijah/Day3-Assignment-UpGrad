{
  "nbformat": 4,
  "nbformat_minor": 0,
  "metadata": {
    "colab": {
      "name": "Day3-Assign.ipynb",
      "provenance": []
    },
    "kernelspec": {
      "name": "python3",
      "display_name": "Python 3"
    },
    "language_info": {
      "name": "python"
    }
  },
  "cells": [
    {
      "cell_type": "code",
      "metadata": {
        "colab": {
          "base_uri": "https://localhost:8080/"
        },
        "id": "edjVQ6AZBe2c",
        "outputId": "af6bbb5c-bea3-421a-b921-3dd99e54fe84"
      },
      "source": [
        "#assign day3\n",
        "#persons list=[2 -1st p,1 -2nd p,5 -3rd p,3 -4th p,4 -5th p]#this is the list people will receive gitfts frm each other\n",
        "#our list=[2,1,5,3,4] and output we shld get list=[2,1,4,5,3] \n",
        "#lets c:\n",
        "\n",
        "gift_presented_to = []\n",
        "gift_received_from = []\n",
        "n = int(input(\"Size of the our list:\"))\n",
        "for i in range(0, n):\n",
        "    gifted_to = int(input())\n",
        "    gift_presented_to.append(gifted_to)     \n",
        "print(\"So the list for persons who hv presented gifts to:\",gift_presented_to)\n",
        "for i in range(0, n):\n",
        "    gift = i+1\n",
        "    gifted_from = gift_presented_to.index(gift)\n",
        "    gift_received_from.append(gifted_from + 1)\n",
        "print(\"This is the list for persons who hv received gifts from: \",gift_received_from)\n"
      ],
      "execution_count": 1,
      "outputs": [
        {
          "output_type": "stream",
          "text": [
            "Size of the our list:5\n",
            "2\n",
            "1\n",
            "5\n",
            "3\n",
            "4\n",
            "So the list for persons who hv presented gifts to: [2, 1, 5, 3, 4]\n",
            "This is the list for persons who hv received gifts from:  [2, 1, 4, 5, 3]\n"
          ],
          "name": "stdout"
        }
      ]
    },
    {
      "cell_type": "code",
      "metadata": {
        "id": "N8NV66eCBiVG"
      },
      "source": [
        ""
      ],
      "execution_count": null,
      "outputs": []
    }
  ]
}